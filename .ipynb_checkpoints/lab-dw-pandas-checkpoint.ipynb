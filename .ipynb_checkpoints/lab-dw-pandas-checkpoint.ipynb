{
 "cells": [
  {
   "cell_type": "markdown",
   "id": "25d7736c-ba17-4aff-b6bb-66eba20fbf4e",
   "metadata": {},
   "source": [
    "# Lab | Pandas"
   ]
  },
  {
   "cell_type": "markdown",
   "id": "d1973e9e-8be6-4039-b70e-d73ee0d94c99",
   "metadata": {},
   "source": [
    "In this lab, we will be working with the customer data from an insurance company, which can be found in the CSV file located at the following link: https://raw.githubusercontent.com/data-bootcamp-v4/data/main/file1.csv\n",
    "\n",
    "The data includes information such as customer ID, state, gender, education, income, and other variables that can be used to perform various analyses.\n",
    "\n",
    "Throughout the lab, we will be using the pandas library in Python to manipulate and analyze the data. Pandas is a powerful library that provides various data manipulation and analysis tools, including the ability to load and manipulate data from a variety of sources, including CSV files."
   ]
  },
  {
   "cell_type": "markdown",
   "id": "8045146f-f4f7-44d9-8cd9-130d6400c73a",
   "metadata": {},
   "source": [
    "### Data Description\n",
    "\n",
    "- Customer - Customer ID\n",
    "\n",
    "- ST - State where customers live\n",
    "\n",
    "- Gender - Gender of the customer\n",
    "\n",
    "- Education - Background education of customers \n",
    "\n",
    "- Customer Lifetime Value - Customer lifetime value(CLV) is the total revenue the client will derive from their entire relationship with a customer. In other words, is the predicted or calculated value of a customer over their entire duration as a policyholder with the insurance company. It is an estimation of the net profit that the insurance company expects to generate from a customer throughout their relationship with the company. Customer Lifetime Value takes into account factors such as the duration of the customer's policy, premium payments, claim history, renewal likelihood, and potential additional services or products the customer may purchase. It helps insurers assess the long-term profitability and value associated with retaining a particular customer.\n",
    "\n",
    "- Income - Customers income\n",
    "\n",
    "- Monthly Premium Auto - Amount of money the customer pays on a monthly basis as a premium for their auto insurance coverage. It represents the recurring cost that the insured person must pay to maintain their insurance policy and receive coverage for potential damages, accidents, or other covered events related to their vehicle.\n",
    "\n",
    "- Number of Open Complaints - Number of complaints the customer opened\n",
    "\n",
    "- Policy Type - There are three type of policies in car insurance (Corporate Auto, Personal Auto, and Special Auto)\n",
    "\n",
    "- Vehicle Class - Type of vehicle classes that customers have Two-Door Car, Four-Door Car SUV, Luxury SUV, Sports Car, and Luxury Car\n",
    "\n",
    "- Total Claim Amount - the sum of all claims made by the customer. It represents the total monetary value of all approved claims for incidents such as accidents, theft, vandalism, or other covered events.\n"
   ]
  },
  {
   "cell_type": "markdown",
   "id": "3a72419b-20fc-4905-817a-8c83abc59de6",
   "metadata": {},
   "source": [
    "External Resources: https://towardsdatascience.com/filtering-data-frames-in-pandas-b570b1f834b9"
   ]
  },
  {
   "cell_type": "markdown",
   "id": "8f8ece17-e919-4e23-96c0-c7c59778436a",
   "metadata": {},
   "source": [
    "## Challenge 1: Understanding the data\n",
    "\n",
    "In this challenge, you will use pandas to explore a given dataset. Your task is to gain a deep understanding of the data by analyzing its characteristics, dimensions, and statistical properties."
   ]
  },
  {
   "cell_type": "markdown",
   "id": "91437bd5-59a6-49c0-8150-ef0e6e6eb253",
   "metadata": {},
   "source": [
    "- Identify the dimensions of the dataset by determining the number of rows and columns it contains.\n",
    "- Determine the data types of each column and evaluate whether they are appropriate for the nature of the variable. You should also provide suggestions for fixing any incorrect data types.\n",
    "- Identify the number of unique values for each column and determine which columns appear to be categorical. You should also describe the unique values of each categorical column and the range of values for numerical columns, and give your insights.\n",
    "- Compute summary statistics such as mean, median, mode, standard deviation, and quartiles to understand the central tendency and distribution of the data for numerical columns. You should also provide your conclusions based on these summary statistics.\n",
    "- Compute summary statistics for categorical columns and providing your conclusions based on these statistics."
   ]
  },
  {
   "cell_type": "code",
   "execution_count": 47,
   "id": "dd4e8cd8-a6f6-486c-a5c4-1745b0c035f4",
   "metadata": {
    "scrolled": true
   },
   "outputs": [
    {
     "name": "stdout",
     "output_type": "stream",
     "text": [
      "Rows: 4008, Columns: 11\n",
      "Customer                      object\n",
      "ST                            object\n",
      "GENDER                        object\n",
      "Education                     object\n",
      "Customer Lifetime Value       object\n",
      "Income                       float64\n",
      "Monthly Premium Auto         float64\n",
      "Number of Open Complaints     object\n",
      "Policy Type                   object\n",
      "Vehicle Class                 object\n",
      "Total Claim Amount           float64\n",
      "dtype: object\n",
      "Customer                     1071\n",
      "ST                              8\n",
      "GENDER                          5\n",
      "Education                       6\n",
      "Customer Lifetime Value      1027\n",
      "Income                        774\n",
      "Monthly Premium Auto          132\n",
      "Number of Open Complaints       6\n",
      "Policy Type                     3\n",
      "Vehicle Class                   6\n",
      "Total Claim Amount            761\n",
      "dtype: int64\n",
      "Customer is a categorical column.\n",
      "ST is a categorical column.\n",
      "GENDER is a categorical column.\n",
      "Education is a categorical column.\n",
      "Customer Lifetime Value is a categorical column.\n",
      "Income is a numerical column.\n",
      "Monthly Premium Auto is a numerical column.\n",
      "Number of Open Complaints is a categorical column.\n",
      "Policy Type is a categorical column.\n",
      "Vehicle Class is a categorical column.\n",
      "Total Claim Amount is a numerical column.\n",
      "Customer - Unique values: ['RB50392' 'QZ44356' 'AI49188' ... 'CW49887' 'MY31220' nan]\n",
      "ST - Unique values: ['Washington' 'Arizona' 'Nevada' 'California' 'Oregon' 'Cali' 'AZ' 'WA'\n",
      " nan]\n",
      "Customer Lifetime Value - Unique values: [nan '697953.59%' '1288743.17%' ... '2031499.76%' '323912.47%'\n",
      " '899704.02%']\n",
      "Number of Open Complaints - Unique values: ['1/0/00' '1/2/00' '1/1/00' '1/3/00' '1/5/00' '1/4/00' nan]\n",
      "GENDER - Unique values: [nan 'F' 'M' 'Femal' 'Male' 'female']\n",
      "Education - Unique values: ['Master' 'Bachelor' 'High School or Below' 'College' 'Bachelors' 'Doctor'\n",
      " nan]\n",
      "Policy Type - Unique values: ['Personal Auto' 'Corporate Auto' 'Special Auto' nan]\n",
      "Vehicle Class - Unique values: ['Four-Door Car' 'Two-Door Car' 'SUV' 'Luxury SUV' 'Sports Car'\n",
      " 'Luxury Car' nan]\n",
      "Income - Range: 0.0 to 99960.0\n",
      "Monthly Premium Auto - Range: 61.0 to 35354.0\n",
      "Total Claim Amount - Range: 0.382107 to 2893.239678\n",
      "Income - Mean: 39295.70121381886, Median: 36234.0, Mode: 0.0\n",
      "Monthly Premium Auto - Mean: 193.234360410831, Median: 83.0, Mode: 65.0\n",
      "Total Claim Amount - Mean: 404.98690940896364, Median: 354.729129, Mode: 321.6\n",
      "\n",
      "Summary for column: Customer\n",
      "Unique categories: 1071\n",
      "Value counts:\n",
      "Customer\n",
      "NaN        2937\n",
      "KH59823       1\n",
      "HQ82233       1\n",
      "OL72737       1\n",
      "ZQ59828       1\n",
      "           ... \n",
      "RO26085       1\n",
      "ES57969       1\n",
      "JK55587       1\n",
      "RN97635       1\n",
      "TA82973       1\n",
      "Name: count, Length: 1072, dtype: int64\n",
      "Mode: AA71604\n",
      "Proportion:\n",
      "Customer\n",
      "RB50392    0.000934\n",
      "HJ15383    0.000934\n",
      "AO74776    0.000934\n",
      "HQ82233    0.000934\n",
      "OL72737    0.000934\n",
      "             ...   \n",
      "RO26085    0.000934\n",
      "ES57969    0.000934\n",
      "JK55587    0.000934\n",
      "RN97635    0.000934\n",
      "MY31220    0.000934\n",
      "Name: proportion, Length: 1071, dtype: float64\n",
      "\n",
      "Summary for column: ST\n",
      "Unique categories: 8\n",
      "Value counts:\n",
      "ST\n",
      "NaN           2937\n",
      "Oregon         320\n",
      "California     211\n",
      "Arizona        186\n",
      "Cali           120\n",
      "Nevada          98\n",
      "Washington      81\n",
      "WA              30\n",
      "AZ              25\n",
      "Name: count, dtype: int64\n",
      "Mode: Oregon\n",
      "Proportion:\n",
      "ST\n",
      "Oregon        0.298786\n",
      "California    0.197012\n",
      "Arizona       0.173669\n",
      "Cali          0.112045\n",
      "Nevada        0.091503\n",
      "Washington    0.075630\n",
      "WA            0.028011\n",
      "AZ            0.023343\n",
      "Name: proportion, dtype: float64\n",
      "\n",
      "Summary for column: GENDER\n",
      "Unique categories: 5\n",
      "Value counts:\n",
      "GENDER\n",
      "NaN       3054\n",
      "F          457\n",
      "M          413\n",
      "Male        39\n",
      "female      28\n",
      "Femal       17\n",
      "Name: count, dtype: int64\n",
      "Mode: F\n",
      "Proportion:\n",
      "GENDER\n",
      "F         0.479036\n",
      "M         0.432914\n",
      "Male      0.040881\n",
      "female    0.029350\n",
      "Femal     0.017820\n",
      "Name: proportion, dtype: float64\n",
      "\n",
      "Summary for column: Education\n",
      "Unique categories: 6\n",
      "Value counts:\n",
      "Education\n",
      "NaN                     2937\n",
      "Bachelor                 324\n",
      "College                  313\n",
      "High School or Below     296\n",
      "Master                    94\n",
      "Doctor                    37\n",
      "Bachelors                  7\n",
      "Name: count, dtype: int64\n",
      "Mode: Bachelor\n",
      "Proportion:\n",
      "Education\n",
      "Bachelor                0.302521\n",
      "College                 0.292250\n",
      "High School or Below    0.276377\n",
      "Master                  0.087768\n",
      "Doctor                  0.034547\n",
      "Bachelors               0.006536\n",
      "Name: proportion, dtype: float64\n",
      "\n",
      "Summary for column: Customer Lifetime Value\n",
      "Unique categories: 1027\n",
      "Value counts:\n",
      "Customer Lifetime Value\n",
      "NaN            2940\n",
      "445811.34%        4\n",
      "251459.20%        4\n",
      "2412750.40%       3\n",
      "684615.03%        3\n",
      "               ... \n",
      "1210120.88%       1\n",
      "245357.08%        1\n",
      "507566.27%        1\n",
      "321497.94%        1\n",
      "899704.02%        1\n",
      "Name: count, Length: 1028, dtype: int64\n",
      "Mode: 251459.20%\n",
      "Proportion:\n",
      "Customer Lifetime Value\n",
      "445811.34%     0.003745\n",
      "251459.20%     0.003745\n",
      "272535.64%     0.002809\n",
      "578018.22%     0.002809\n",
      "684615.03%     0.002809\n",
      "                 ...   \n",
      "245357.08%     0.000936\n",
      "507566.27%     0.000936\n",
      "321497.94%     0.000936\n",
      "1227534.31%    0.000936\n",
      "899704.02%     0.000936\n",
      "Name: proportion, Length: 1027, dtype: float64\n",
      "\n",
      "Summary for column: Number of Open Complaints\n",
      "Unique categories: 6\n",
      "Value counts:\n",
      "Number of Open Complaints\n",
      "NaN       2937\n",
      "1/0/00     830\n",
      "1/1/00     138\n",
      "1/2/00      50\n",
      "1/3/00      34\n",
      "1/4/00      13\n",
      "1/5/00       6\n",
      "Name: count, dtype: int64\n",
      "Mode: 1/0/00\n",
      "Proportion:\n",
      "Number of Open Complaints\n",
      "1/0/00    0.774977\n",
      "1/1/00    0.128852\n",
      "1/2/00    0.046685\n",
      "1/3/00    0.031746\n",
      "1/4/00    0.012138\n",
      "1/5/00    0.005602\n",
      "Name: proportion, dtype: float64\n",
      "\n",
      "Summary for column: Policy Type\n",
      "Unique categories: 3\n",
      "Value counts:\n",
      "Policy Type\n",
      "NaN               2937\n",
      "Personal Auto      780\n",
      "Corporate Auto     234\n",
      "Special Auto        57\n",
      "Name: count, dtype: int64\n",
      "Mode: Personal Auto\n",
      "Proportion:\n",
      "Policy Type\n",
      "Personal Auto     0.728291\n",
      "Corporate Auto    0.218487\n",
      "Special Auto      0.053221\n",
      "Name: proportion, dtype: float64\n",
      "\n",
      "Summary for column: Vehicle Class\n",
      "Unique categories: 6\n",
      "Value counts:\n",
      "Vehicle Class\n",
      "NaN              2937\n",
      "Four-Door Car     576\n",
      "Two-Door Car      205\n",
      "SUV               199\n",
      "Sports Car         57\n",
      "Luxury SUV         20\n",
      "Luxury Car         14\n",
      "Name: count, dtype: int64\n",
      "Mode: Four-Door Car\n",
      "Proportion:\n",
      "Vehicle Class\n",
      "Four-Door Car    0.537815\n",
      "Two-Door Car     0.191410\n",
      "SUV              0.185808\n",
      "Sports Car       0.053221\n",
      "Luxury SUV       0.018674\n",
      "Luxury Car       0.013072\n",
      "Name: proportion, dtype: float64\n"
     ]
    },
    {
     "name": "stderr",
     "output_type": "stream",
     "text": [
      "C:\\Users\\maxpi\\AppData\\Local\\Temp\\ipykernel_20044\\1480647802.py:15: DeprecationWarning: is_categorical_dtype is deprecated and will be removed in a future version. Use isinstance(dtype, pd.CategoricalDtype) instead\n",
      "  elif pd.api.types.is_categorical_dtype(df[col]) or df[col].dtype == 'object':\n"
     ]
    }
   ],
   "source": [
    "import pandas as pd\n",
    "\n",
    "df = pd.read_csv('https://raw.githubusercontent.com/data-bootcamp-v4/data/main/file1.csv')  # or pd.read_excel('your_file.xlsx')\n",
    "rows, columns = df.shape\n",
    "print(f\"Rows: {rows}, Columns: {columns}\")\n",
    "\n",
    "print(df.dtypes)\n",
    "\n",
    "unique_counts = df.nunique()\n",
    "print(unique_counts)\n",
    "\n",
    "for col in df.columns:\n",
    "    if pd.api.types.is_numeric_dtype(df[col]):\n",
    "        print(f\"{col} is a numerical column.\")\n",
    "    elif pd.api.types.is_categorical_dtype(df[col]) or df[col].dtype == 'object':\n",
    "        print(f\"{col} is a categorical column.\")\n",
    "    else:\n",
    "        print(f\"{col} has an unknown type.\")\n",
    "\n",
    "# unique values in categorical columns\n",
    "for col in ['Customer','ST','Customer Lifetime Value', 'Number of Open Complaints','GENDER', 'Education', 'Policy Type', 'Vehicle Class']:\n",
    "    unique_vals = df[col].unique()\n",
    "    print(f\"{col} - Unique values: {unique_vals}\")\n",
    "\n",
    "# unique values in numerical columns\n",
    "for col in ['Income', 'Monthly Premium Auto','Total Claim Amount']:\n",
    "    col_min = df[col].min()\n",
    "    col_max = df[col].max()\n",
    "    print(f\"{col} - Range: {col_min} to {col_max}\")\n",
    "\n",
    "numeric_cols = df.select_dtypes(include=['number']).columns\n",
    "\n",
    "for col in numeric_cols:\n",
    "    col_mean = df[col].mean()\n",
    "    col_median = df[col].median()\n",
    "    col_mode = df[col].mode().iloc[0]  # Get the first mode if there are multiple\n",
    "    print(f\"{col} - Mean: {col_mean}, Median: {col_median}, Mode: {col_mode}\")\n",
    "\n",
    "# Example categorical columns\n",
    "categorical_columns = df.select_dtypes(include=['object', 'category']).columns\n",
    "\n",
    "for col in categorical_columns:\n",
    "    print(f\"\\nSummary for column: {col}\")\n",
    "    \n",
    "    # Number of unique categories\n",
    "    print(f\"Unique categories: {df[col].nunique()}\")\n",
    "    \n",
    "    # Frequency distribution\n",
    "    print(f\"Value counts:\\n{df[col].value_counts(dropna=False)}\")\n",
    "    \n",
    "    # Mode (most frequent category)\n",
    "    print(f\"Mode: {df[col].mode()[0]}\")\n",
    "    \n",
    "    # Proportions of categories\n",
    "    print(f\"Proportion:\\n{df[col].value_counts(normalize=True)}\")\n"
   ]
  },
  {
   "cell_type": "markdown",
   "id": "4a703890-63db-4944-b7ab-95a4f8185120",
   "metadata": {},
   "source": [
    "## Challenge 2: analyzing the data"
   ]
  },
  {
   "cell_type": "markdown",
   "id": "0776a403-c56a-452f-ac33-5fd4fdb06fc7",
   "metadata": {},
   "source": [
    "### Exercise 1"
   ]
  },
  {
   "cell_type": "markdown",
   "id": "eedbc484-da4d-4f9c-9343-e1d44311a87e",
   "metadata": {},
   "source": [
    "The marketing team wants to know the top 5 less common customer locations. Create a pandas Series object that contains the customer locations and their frequencies, and then retrieve the top 5 less common locations in ascending order."
   ]
  },
  {
   "cell_type": "code",
   "execution_count": 55,
   "id": "2dca5073-4520-4f42-9390-4b92733284ed",
   "metadata": {},
   "outputs": [
    {
     "name": "stdout",
     "output_type": "stream",
     "text": [
      "ST\n",
      "AZ             25\n",
      "WA             30\n",
      "Washington     81\n",
      "Nevada         98\n",
      "Cali          120\n",
      "Name: count, dtype: int64\n"
     ]
    }
   ],
   "source": [
    "least_common_locations = df['ST'].value_counts().sort_values(ascending=True).head(5)\n",
    "print(least_common_locations)"
   ]
  },
  {
   "cell_type": "markdown",
   "id": "0ce80f43-4afa-43c7-a78a-c917444da4e0",
   "metadata": {},
   "source": [
    "### Exercise 2\n",
    "\n",
    "The sales team wants to know the total number of policies sold for each type of policy. Create a pandas Series object that contains the policy types and their total number of policies sold, and then retrieve the policy type with the highest number of policies sold."
   ]
  },
  {
   "cell_type": "markdown",
   "id": "a9f13997-1555-4f98-aca6-970fda1d2c3f",
   "metadata": {},
   "source": [
    "*Hint:*\n",
    "- *Using value_counts() method simplifies this analysis.*\n",
    "- *Futhermore, there is a method that returns the index of the maximum value in a column or row.*\n"
   ]
  },
  {
   "cell_type": "code",
   "execution_count": 66,
   "id": "bcfad6c1-9af2-4b0b-9aa9-0dc5c17473c0",
   "metadata": {},
   "outputs": [
    {
     "name": "stdout",
     "output_type": "stream",
     "text": [
      "Policy Type\n",
      "Personal Auto     780\n",
      "Corporate Auto    234\n",
      "Special Auto       57\n",
      "Name: count, dtype: int64\n",
      "The most common policy type is: Personal Auto\n"
     ]
    }
   ],
   "source": [
    "total_number_policies = df['Policy Type'].value_counts().sort_values(ascending=False)\n",
    "print(total_number_policies)\n",
    "\n",
    "most_common_policy_type = df['Policy Type'].value_counts().idxmax()\n",
    "\n",
    "# Print the most common policy type\n",
    "print(f\"The most common policy type is: {most_common_policy_type}\")"
   ]
  },
  {
   "cell_type": "markdown",
   "id": "0b863fd3-bf91-4d5d-86eb-be29ed9f5b70",
   "metadata": {},
   "source": [
    "### Exercise 3\n",
    "\n",
    "The sales team wants to know if customers with Personal Auto have a lower income than those with Corporate Auto. How does the average income compare between the two policy types?"
   ]
  },
  {
   "cell_type": "markdown",
   "id": "b1386d75-2810-4aa1-93e0-9485aa12d552",
   "metadata": {},
   "source": [
    "- Use *loc* to create two dataframes: one containing only Personal Auto policies and one containing only Corporate Auto policies.\n",
    "- Calculate the average income for each policy.\n",
    "- Print the results."
   ]
  },
  {
   "cell_type": "code",
   "execution_count": null,
   "id": "0c0563cf-6f8b-463d-a321-651a972f82e5",
   "metadata": {},
   "outputs": [],
   "source": [
    "# Your code here"
   ]
  },
  {
   "cell_type": "markdown",
   "id": "80b16c27-f4a5-4727-a229-1f88671cf4e2",
   "metadata": {},
   "source": [
    "### Bonus: Exercise 4\n"
   ]
  },
  {
   "cell_type": "markdown",
   "id": "ac584986-299b-475f-ac2e-928c16c3f512",
   "metadata": {},
   "source": [
    "Your goal is to identify customers with a high policy claim amount.\n",
    "\n",
    "Instructions:\n",
    "\n",
    "- Review again the statistics for total claim amount to gain an understanding of the data.\n",
    "- To identify potential areas for improving customer retention and profitability, we want to focus on customers with a high policy claim amount. Consider customers with a high policy claim amount to be those in the top 25% of the total claim amount. Create a pandas DataFrame object that contains information about customers with a policy claim amount greater than the 75th percentile.\n",
    "- Use DataFrame methods to calculate summary statistics about the high policy claim amount data. "
   ]
  },
  {
   "cell_type": "markdown",
   "id": "4e3af5f1-6023-4b05-9c01-d05392daa650",
   "metadata": {},
   "source": [
    "*Note: When analyzing data, we often want to focus on certain groups of values to gain insights. Percentiles are a useful tool to help us define these groups. A percentile is a measure that tells us what percentage of values in a dataset are below a certain value. For example, the 75th percentile represents the value below which 75% of the data falls. Similarly, the 25th percentile represents the value below which 25% of the data falls. When we talk about the top 25%, we are referring to the values that fall above the 75th percentile, which represent the top quarter of the data. On the other hand, when we talk about the bottom 25%, we are referring to the values that fall below the 25th percentile, which represent the bottom quarter of the data. By focusing on these groups, we can identify patterns and trends that may be useful for making decisions and taking action.*\n",
    "\n",
    "*Hint: look for a method that gives you the percentile or quantile 0.75 and 0.25 for a Pandas Series.*"
   ]
  },
  {
   "cell_type": "markdown",
   "id": "2d234634-50bd-41e0-88f7-d5ba684455d1",
   "metadata": {},
   "source": [
    "*Hint 2: check `Boolean selection according to the values of a single column` in https://towardsdatascience.com/filtering-data-frames-in-pandas-b570b1f834b9*"
   ]
  },
  {
   "cell_type": "code",
   "execution_count": null,
   "id": "b731bca6-a760-4860-a27b-a33efa712ce0",
   "metadata": {},
   "outputs": [],
   "source": [
    "# Your code here"
   ]
  }
 ],
 "metadata": {
  "kernelspec": {
   "display_name": "Python [conda env:base] *",
   "language": "python",
   "name": "conda-base-py"
  },
  "language_info": {
   "codemirror_mode": {
    "name": "ipython",
    "version": 3
   },
   "file_extension": ".py",
   "mimetype": "text/x-python",
   "name": "python",
   "nbconvert_exporter": "python",
   "pygments_lexer": "ipython3",
   "version": "3.12.7"
  }
 },
 "nbformat": 4,
 "nbformat_minor": 5
}
